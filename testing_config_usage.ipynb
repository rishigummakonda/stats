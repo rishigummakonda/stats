{
 "cells": [
  {
   "cell_type": "markdown",
   "id": "cf04dc3a",
   "metadata": {},
   "source": [
    "### Configuration Setup\n",
    "\n",
    "In this notebook, we will read configuration settings from a `config.ini` file using the `configparser` module. This allows us to manage our application settings in a centralized and organized manner."
   ]
  },
  {
   "cell_type": "code",
   "execution_count": 1,
   "id": "15abb458",
   "metadata": {},
   "outputs": [
    {
     "ename": "KeyError",
     "evalue": "'database'",
     "output_type": "error",
     "traceback": [
      "\u001b[0;31m---------------------------------------------------------------------------\u001b[0m",
      "\u001b[0;31mKeyError\u001b[0m                                  Traceback (most recent call last)",
      "Cell \u001b[0;32mIn[1], line 14\u001b[0m\n\u001b[1;32m     11\u001b[0m config\u001b[38;5;241m.\u001b[39mread(config_file_path)\n\u001b[1;32m     13\u001b[0m \u001b[38;5;66;03m# Access the settings\u001b[39;00m\n\u001b[0;32m---> 14\u001b[0m db_host \u001b[38;5;241m=\u001b[39m config[\u001b[38;5;124m'\u001b[39m\u001b[38;5;124mdatabase\u001b[39m\u001b[38;5;124m'\u001b[39m][\u001b[38;5;124m'\u001b[39m\u001b[38;5;124mhost\u001b[39m\u001b[38;5;124m'\u001b[39m]\n\u001b[1;32m     15\u001b[0m db_port \u001b[38;5;241m=\u001b[39m config[\u001b[38;5;124m'\u001b[39m\u001b[38;5;124mdatabase\u001b[39m\u001b[38;5;124m'\u001b[39m][\u001b[38;5;124m'\u001b[39m\u001b[38;5;124mport\u001b[39m\u001b[38;5;124m'\u001b[39m]\n\u001b[1;32m     16\u001b[0m db_user \u001b[38;5;241m=\u001b[39m config[\u001b[38;5;124m'\u001b[39m\u001b[38;5;124mdatabase\u001b[39m\u001b[38;5;124m'\u001b[39m][\u001b[38;5;124m'\u001b[39m\u001b[38;5;124musername\u001b[39m\u001b[38;5;124m'\u001b[39m]\n",
      "File \u001b[0;32m~/anaconda3/lib/python3.11/configparser.py:979\u001b[0m, in \u001b[0;36mRawConfigParser.__getitem__\u001b[0;34m(self, key)\u001b[0m\n\u001b[1;32m    977\u001b[0m \u001b[38;5;28;01mdef\u001b[39;00m \u001b[38;5;21m__getitem__\u001b[39m(\u001b[38;5;28mself\u001b[39m, key):\n\u001b[1;32m    978\u001b[0m     \u001b[38;5;28;01mif\u001b[39;00m key \u001b[38;5;241m!=\u001b[39m \u001b[38;5;28mself\u001b[39m\u001b[38;5;241m.\u001b[39mdefault_section \u001b[38;5;129;01mand\u001b[39;00m \u001b[38;5;129;01mnot\u001b[39;00m \u001b[38;5;28mself\u001b[39m\u001b[38;5;241m.\u001b[39mhas_section(key):\n\u001b[0;32m--> 979\u001b[0m         \u001b[38;5;28;01mraise\u001b[39;00m \u001b[38;5;167;01mKeyError\u001b[39;00m(key)\n\u001b[1;32m    980\u001b[0m     \u001b[38;5;28;01mreturn\u001b[39;00m \u001b[38;5;28mself\u001b[39m\u001b[38;5;241m.\u001b[39m_proxies[key]\n",
      "\u001b[0;31mKeyError\u001b[0m: 'database'"
     ]
    }
   ],
   "source": [
    "import configparser\n",
    "import os\n",
    "\n",
    "# Create a ConfigParser object\n",
    "config = configparser.ConfigParser()\n",
    "\n",
    "# Define the path to the config file (modify the path according to your setup)\n",
    "config_file_path = '/Users/rishigummakonda/stats/config.ini'\n",
    "\n",
    "# Read the config file\n",
    "config.read(config_file_path)\n",
    "\n",
    "# Access the settings\n",
    "db_host = config['database']['host']\n",
    "db_port = config['database']['port']\n",
    "db_user = config['database']['username']\n",
    "db_password = config['database']['password']\n",
    "db_name = config['database']['database']\n",
    "\n",
    "api_key = config['api']['key']\n",
    "\n",
    "data_dir = config['paths']['data_dir']\n",
    "log_dir = config['paths']['log_dir']\n",
    "output_dir = config['paths']['output_dir']\n",
    "\n",
    "debug_mode = config['environment'].getboolean('debug_mode')\n",
    "log_level = config['environment']['log_level']\n",
    "\n",
    "# Print the values to verify\n",
    "print(f\"Database Host: {db_host}\")\n",
    "print(f\"API Key: {api_key}\")\n",
    "print(f\"Data Directory: {data_dir}\")"
   ]
  },
  {
   "cell_type": "markdown",
   "id": "219928fc",
   "metadata": {},
   "source": [
    "\n",
    "\n",
    "This script initializes a `ConfigParser` object, reads the configuration from the specified `config.ini` file, and accesses various settings like database credentials, API key, and directory paths. It then prints out some of these values to verify that they have been correctly read from the configuration file."
   ]
  }
 ],
 "metadata": {
  "kernelspec": {
   "display_name": "Python 3 (ipykernel)",
   "language": "python",
   "name": "python3"
  },
  "language_info": {
   "codemirror_mode": {
    "name": "ipython",
    "version": 3
   },
   "file_extension": ".py",
   "mimetype": "text/x-python",
   "name": "python",
   "nbconvert_exporter": "python",
   "pygments_lexer": "ipython3",
   "version": "3.11.5"
  }
 },
 "nbformat": 4,
 "nbformat_minor": 5
}
